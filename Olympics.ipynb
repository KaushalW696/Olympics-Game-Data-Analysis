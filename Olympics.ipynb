{
 "cells": [
  {
   "cell_type": "markdown",
   "id": "8cbe69c4",
   "metadata": {},
   "source": [
    "# Olympics Data Analysis( 1896 -2020 )"
   ]
  },
  {
   "cell_type": "code",
   "execution_count": 1,
   "id": "b9317621",
   "metadata": {},
   "outputs": [
    {
     "name": "stderr",
     "output_type": "stream",
     "text": [
      "C:\\Users\\hp\\anaconda2\\lib\\site-packages\\pandas\\core\\arrays\\masked.py:60: UserWarning: Pandas requires version '1.3.6' or newer of 'bottleneck' (version '1.3.5' currently installed).\n",
      "  from pandas.core import (\n"
     ]
    }
   ],
   "source": [
    "# Import required libraries\n",
    "import numpy as np\n",
    "import pandas as pd\n",
    "import matplotlib.pyplot as plt\n",
    "import matplotlib.ticker as mticker\n",
    "import seaborn as sns\n",
    "import re"
   ]
  },
  {
   "cell_type": "markdown",
   "id": "b571170c",
   "metadata": {},
   "source": [
    "# Olympic Host Data Analysis"
   ]
  },
  {
   "cell_type": "code",
   "execution_count": 2,
   "id": "1e4cd726",
   "metadata": {},
   "outputs": [],
   "source": [
    "# read the file\n",
    "host_df=pd.read_csv(r\"C:\\Users\\hp\\Downloads\\archive (6)\\olympic_hosts.csv\")"
   ]
  },
  {
   "cell_type": "code",
   "execution_count": 3,
   "id": "a9eb845d",
   "metadata": {},
   "outputs": [
    {
     "data": {
      "text/plain": [
       "(53, 7)"
      ]
     },
     "execution_count": 3,
     "metadata": {},
     "output_type": "execute_result"
    }
   ],
   "source": [
    "host_df.shape"
   ]
  },
  {
   "cell_type": "code",
   "execution_count": 4,
   "id": "72bf7609",
   "metadata": {},
   "outputs": [
    {
     "name": "stdout",
     "output_type": "stream",
     "text": [
      "<class 'pandas.core.frame.DataFrame'>\n",
      "RangeIndex: 53 entries, 0 to 52\n",
      "Data columns (total 7 columns):\n",
      " #   Column           Non-Null Count  Dtype \n",
      "---  ------           --------------  ----- \n",
      " 0   game_slug        53 non-null     object\n",
      " 1   game_end_date    53 non-null     object\n",
      " 2   game_start_date  53 non-null     object\n",
      " 3   game_location    53 non-null     object\n",
      " 4   game_name        53 non-null     object\n",
      " 5   game_season      53 non-null     object\n",
      " 6   game_year        53 non-null     int64 \n",
      "dtypes: int64(1), object(6)\n",
      "memory usage: 3.0+ KB\n"
     ]
    }
   ],
   "source": [
    "host_df.info()"
   ]
  },
  {
   "cell_type": "code",
   "execution_count": 5,
   "id": "d6046289",
   "metadata": {},
   "outputs": [
    {
     "data": {
      "text/html": [
       "<div>\n",
       "<style scoped>\n",
       "    .dataframe tbody tr th:only-of-type {\n",
       "        vertical-align: middle;\n",
       "    }\n",
       "\n",
       "    .dataframe tbody tr th {\n",
       "        vertical-align: top;\n",
       "    }\n",
       "\n",
       "    .dataframe thead th {\n",
       "        text-align: right;\n",
       "    }\n",
       "</style>\n",
       "<table border=\"1\" class=\"dataframe\">\n",
       "  <thead>\n",
       "    <tr style=\"text-align: right;\">\n",
       "      <th></th>\n",
       "      <th>game_slug</th>\n",
       "      <th>game_end_date</th>\n",
       "      <th>game_start_date</th>\n",
       "      <th>game_location</th>\n",
       "      <th>game_name</th>\n",
       "      <th>game_season</th>\n",
       "      <th>game_year</th>\n",
       "    </tr>\n",
       "  </thead>\n",
       "  <tbody>\n",
       "    <tr>\n",
       "      <th>0</th>\n",
       "      <td>beijing-2022</td>\n",
       "      <td>2022-02-20T12:00:00Z</td>\n",
       "      <td>2022-02-04T15:00:00Z</td>\n",
       "      <td>China</td>\n",
       "      <td>Beijing 2022</td>\n",
       "      <td>Winter</td>\n",
       "      <td>2022</td>\n",
       "    </tr>\n",
       "    <tr>\n",
       "      <th>1</th>\n",
       "      <td>tokyo-2020</td>\n",
       "      <td>2021-08-08T14:00:00Z</td>\n",
       "      <td>2021-07-23T11:00:00Z</td>\n",
       "      <td>Japan</td>\n",
       "      <td>Tokyo 2020</td>\n",
       "      <td>Summer</td>\n",
       "      <td>2020</td>\n",
       "    </tr>\n",
       "    <tr>\n",
       "      <th>2</th>\n",
       "      <td>pyeongchang-2018</td>\n",
       "      <td>2018-02-25T08:00:00Z</td>\n",
       "      <td>2018-02-08T23:00:00Z</td>\n",
       "      <td>Republic of Korea</td>\n",
       "      <td>PyeongChang 2018</td>\n",
       "      <td>Winter</td>\n",
       "      <td>2018</td>\n",
       "    </tr>\n",
       "    <tr>\n",
       "      <th>3</th>\n",
       "      <td>rio-2016</td>\n",
       "      <td>2016-08-21T21:00:00Z</td>\n",
       "      <td>2016-08-05T12:00:00Z</td>\n",
       "      <td>Brazil</td>\n",
       "      <td>Rio 2016</td>\n",
       "      <td>Summer</td>\n",
       "      <td>2016</td>\n",
       "    </tr>\n",
       "    <tr>\n",
       "      <th>4</th>\n",
       "      <td>sochi-2014</td>\n",
       "      <td>2014-02-23T16:00:00Z</td>\n",
       "      <td>2014-02-07T04:00:00Z</td>\n",
       "      <td>Russian Federation</td>\n",
       "      <td>Sochi 2014</td>\n",
       "      <td>Winter</td>\n",
       "      <td>2014</td>\n",
       "    </tr>\n",
       "  </tbody>\n",
       "</table>\n",
       "</div>"
      ],
      "text/plain": [
       "          game_slug         game_end_date       game_start_date  \\\n",
       "0      beijing-2022  2022-02-20T12:00:00Z  2022-02-04T15:00:00Z   \n",
       "1        tokyo-2020  2021-08-08T14:00:00Z  2021-07-23T11:00:00Z   \n",
       "2  pyeongchang-2018  2018-02-25T08:00:00Z  2018-02-08T23:00:00Z   \n",
       "3          rio-2016  2016-08-21T21:00:00Z  2016-08-05T12:00:00Z   \n",
       "4        sochi-2014  2014-02-23T16:00:00Z  2014-02-07T04:00:00Z   \n",
       "\n",
       "        game_location         game_name game_season  game_year  \n",
       "0               China      Beijing 2022      Winter       2022  \n",
       "1               Japan        Tokyo 2020      Summer       2020  \n",
       "2   Republic of Korea  PyeongChang 2018      Winter       2018  \n",
       "3              Brazil          Rio 2016      Summer       2016  \n",
       "4  Russian Federation        Sochi 2014      Winter       2014  "
      ]
     },
     "execution_count": 5,
     "metadata": {},
     "output_type": "execute_result"
    }
   ],
   "source": [
    "host_df.head()"
   ]
  },
  {
   "cell_type": "markdown",
   "id": "68f3238a",
   "metadata": {},
   "source": [
    "# Host Country Information "
   ]
  },
  {
   "cell_type": "code",
   "execution_count": 6,
   "id": "28ce2594",
   "metadata": {},
   "outputs": [
    {
     "data": {
      "image/png": "[encoded data removed]",
      "text/plain": [
       "<Figure size 1000x400 with 1 Axes>"
      ]
     },
     "metadata": {},
     "output_type": "display_data"
    }
   ],
   "source": [
    "plt.figure(figsize=(10,4))\n",
    "host_df['game_location'].value_counts().plot(kind='bar',color='green')\n",
    "plt.xlabel(\"Country\")\n",
    "plt.ylabel('Frequency')\n",
    "plt.title(\"Frequency of Olympics Games Host country \")\n",
    "plt.show()"
   ]
  },
  {
   "cell_type": "markdown",
   "id": "36ebace6",
   "metadata": {},
   "source": [
    "# Olympics by Season"
   ]
  },
  {
   "cell_type": "code",
   "execution_count": 7,
   "id": "f4eadea0",
   "metadata": {},
   "outputs": [
    {
     "data": {
      "image/png": "[encoded data removed]",
      "text/plain": [
       "<Figure size 600x400 with 1 Axes>"
      ]
     },
     "metadata": {},
     "output_type": "display_data"
    }
   ],
   "source": [
    "plt.figure(figsize=(6,4))\n",
    "host_df['game_season'].value_counts().plot(kind='bar')\n",
    "plt.xticks(rotation='horizontal')\n",
    "plt.xlabel('Season')\n",
    "plt.ylabel('Frequency')\n",
    "plt.title(\"Frequency of Olympics Games Host country \")\n",
    "plt.show()"
   ]
  },
  {
   "cell_type": "markdown",
   "id": "b622a452",
   "metadata": {},
   "source": [
    "# First Olympics Details"
   ]
  },
  {
   "cell_type": "code",
   "execution_count": 8,
   "id": "c6f20c9a",
   "metadata": {},
   "outputs": [
    {
     "data": {
      "text/html": [
       "<div>\n",
       "<style scoped>\n",
       "    .dataframe tbody tr th:only-of-type {\n",
       "        vertical-align: middle;\n",
       "    }\n",
       "\n",
       "    .dataframe tbody tr th {\n",
       "        vertical-align: top;\n",
       "    }\n",
       "\n",
       "    .dataframe thead th {\n",
       "        text-align: right;\n",
       "    }\n",
       "</style>\n",
       "<table border=\"1\" class=\"dataframe\">\n",
       "  <thead>\n",
       "    <tr style=\"text-align: right;\">\n",
       "      <th></th>\n",
       "      <th>game_slug</th>\n",
       "      <th>game_end_date</th>\n",
       "      <th>game_start_date</th>\n",
       "      <th>game_location</th>\n",
       "      <th>game_name</th>\n",
       "      <th>game_season</th>\n",
       "      <th>game_year</th>\n",
       "    </tr>\n",
       "  </thead>\n",
       "  <tbody>\n",
       "    <tr>\n",
       "      <th>52</th>\n",
       "      <td>athens-1896</td>\n",
       "      <td>1896-04-15T11:39:39Z</td>\n",
       "      <td>1896-04-06T11:38:39Z</td>\n",
       "      <td>Greece</td>\n",
       "      <td>Athens 1896</td>\n",
       "      <td>Summer</td>\n",
       "      <td>1896</td>\n",
       "    </tr>\n",
       "  </tbody>\n",
       "</table>\n",
       "</div>"
      ],
      "text/plain": [
       "      game_slug         game_end_date       game_start_date game_location  \\\n",
       "52  athens-1896  1896-04-15T11:39:39Z  1896-04-06T11:38:39Z        Greece   \n",
       "\n",
       "      game_name game_season  game_year  \n",
       "52  Athens 1896      Summer       1896  "
      ]
     },
     "execution_count": 8,
     "metadata": {},
     "output_type": "execute_result"
    }
   ],
   "source": [
    "host_df[host_df['game_year']==host_df['game_year'].min()]"
   ]
  },
  {
   "cell_type": "markdown",
   "id": "4553d1f4",
   "metadata": {},
   "source": [
    "# Olympics game duration"
   ]
  },
  {
   "cell_type": "code",
   "execution_count": 9,
   "id": "ad9db8ba",
   "metadata": {},
   "outputs": [
    {
     "data": {
      "text/plain": [
       "datetime64[ns, UTC]"
      ]
     },
     "execution_count": 9,
     "metadata": {},
     "output_type": "execute_result"
    }
   ],
   "source": [
    "# change the datatype of the column\n",
    "host_df['game_end_date']=pd.to_datetime(host_df['game_end_date'])\n",
    "host_df['game_start_date']=pd.to_datetime(host_df['game_start_date'])\n",
    "host_df['game_end_date'].dtype"
   ]
  },
  {
   "cell_type": "code",
   "execution_count": 10,
   "id": "65088c92",
   "metadata": {},
   "outputs": [],
   "source": [
    "host_df['game_duration']=host_df['game_end_date']-host_df['game_start_date']"
   ]
  },
  {
   "cell_type": "code",
   "execution_count": 11,
   "id": "e57d0668",
   "metadata": {},
   "outputs": [
    {
     "data": {
      "image/png": "[encoded data removed]",
      "text/plain": [
       "<Figure size 1500x500 with 1 Axes>"
      ]
     },
     "metadata": {},
     "output_type": "display_data"
    }
   ],
   "source": [
    "plt.figure(figsize=(15,5))\n",
    "plt.bar(host_df['game_year'],host_df['game_duration'].dt.days)\n",
    "plt.xticks(rotation='vertical')\n",
    "plt.xticks(range(1896,2023,4))\n",
    "plt.title('Game duration Vs. Game Year')\n",
    "plt.xlabel('Game Year')\n",
    "plt.ylabel('Game Duration(Days)')\n",
    "plt.show()"
   ]
  },
  {
   "cell_type": "code",
   "execution_count": 12,
   "id": "8728e014",
   "metadata": {},
   "outputs": [
    {
     "name": "stdout",
     "output_type": "stream",
     "text": [
      "Shortest Olympics Duration:  8  days\n"
     ]
    }
   ],
   "source": [
    "print('Shortest Olympics Duration: ',host_df['game_duration'].min().days,' days')"
   ]
  },
  {
   "cell_type": "code",
   "execution_count": 13,
   "id": "22c3ccff",
   "metadata": {},
   "outputs": [
    {
     "name": "stdout",
     "output_type": "stream",
     "text": [
      "Longest Olympics Duration:  187  days\n"
     ]
    }
   ],
   "source": [
    "print('Longest Olympics Duration: ',host_df['game_duration'].max().days,' days')"
   ]
  },
  {
   "cell_type": "markdown",
   "id": "e9d8c50e",
   "metadata": {},
   "source": [
    "# Olympics Athelete Data Analysis"
   ]
  },
  {
   "cell_type": "code",
   "execution_count": 14,
   "id": "d326028f",
   "metadata": {},
   "outputs": [],
   "source": [
    "ath_df=pd.read_csv(r\"C:\\Users\\hp\\Downloads\\archive (6)\\olympic_athletes.csv\")"
   ]
  },
  {
   "cell_type": "code",
   "execution_count": 15,
   "id": "02799b21",
   "metadata": {},
   "outputs": [
    {
     "data": {
      "text/html": [
       "<div>\n",
       "<style scoped>\n",
       "    .dataframe tbody tr th:only-of-type {\n",
       "        vertical-align: middle;\n",
       "    }\n",
       "\n",
       "    .dataframe tbody tr th {\n",
       "        vertical-align: top;\n",
       "    }\n",
       "\n",
       "    .dataframe thead th {\n",
       "        text-align: right;\n",
       "    }\n",
       "</style>\n",
       "<table border=\"1\" class=\"dataframe\">\n",
       "  <thead>\n",
       "    <tr style=\"text-align: right;\">\n",
       "      <th></th>\n",
       "      <th>athlete_url</th>\n",
       "      <th>athlete_full_name</th>\n",
       "      <th>games_participations</th>\n",
       "      <th>first_game</th>\n",
       "      <th>athlete_year_birth</th>\n",
       "      <th>athlete_medals</th>\n",
       "      <th>bio</th>\n",
       "    </tr>\n",
       "  </thead>\n",
       "  <tbody>\n",
       "    <tr>\n",
       "      <th>0</th>\n",
       "      <td>https://olympics.com/en/athletes/cooper-woods-...</td>\n",
       "      <td>Cooper WOODS-TOPALOVIC</td>\n",
       "      <td>1</td>\n",
       "      <td>Beijing 2022</td>\n",
       "      <td>2000.0</td>\n",
       "      <td>NaN</td>\n",
       "      <td>NaN</td>\n",
       "    </tr>\n",
       "    <tr>\n",
       "      <th>1</th>\n",
       "      <td>https://olympics.com/en/athletes/elofsson</td>\n",
       "      <td>Felix ELOFSSON</td>\n",
       "      <td>2</td>\n",
       "      <td>PyeongChang 2018</td>\n",
       "      <td>1995.0</td>\n",
       "      <td>NaN</td>\n",
       "      <td>NaN</td>\n",
       "    </tr>\n",
       "    <tr>\n",
       "      <th>2</th>\n",
       "      <td>https://olympics.com/en/athletes/dylan-walczyk</td>\n",
       "      <td>Dylan WALCZYK</td>\n",
       "      <td>1</td>\n",
       "      <td>Beijing 2022</td>\n",
       "      <td>1993.0</td>\n",
       "      <td>NaN</td>\n",
       "      <td>NaN</td>\n",
       "    </tr>\n",
       "    <tr>\n",
       "      <th>3</th>\n",
       "      <td>https://olympics.com/en/athletes/olli-penttala</td>\n",
       "      <td>Olli PENTTALA</td>\n",
       "      <td>1</td>\n",
       "      <td>Beijing 2022</td>\n",
       "      <td>1995.0</td>\n",
       "      <td>NaN</td>\n",
       "      <td>NaN</td>\n",
       "    </tr>\n",
       "    <tr>\n",
       "      <th>4</th>\n",
       "      <td>https://olympics.com/en/athletes/reikherd</td>\n",
       "      <td>Dmitriy REIKHERD</td>\n",
       "      <td>1</td>\n",
       "      <td>Beijing 2022</td>\n",
       "      <td>1989.0</td>\n",
       "      <td>NaN</td>\n",
       "      <td>NaN</td>\n",
       "    </tr>\n",
       "  </tbody>\n",
       "</table>\n",
       "</div>"
      ],
      "text/plain": [
       "                                         athlete_url       athlete_full_name  \\\n",
       "0  https://olympics.com/en/athletes/cooper-woods-...  Cooper WOODS-TOPALOVIC   \n",
       "1          https://olympics.com/en/athletes/elofsson          Felix ELOFSSON   \n",
       "2     https://olympics.com/en/athletes/dylan-walczyk           Dylan WALCZYK   \n",
       "3     https://olympics.com/en/athletes/olli-penttala           Olli PENTTALA   \n",
       "4          https://olympics.com/en/athletes/reikherd        Dmitriy REIKHERD   \n",
       "\n",
       "   games_participations        first_game  athlete_year_birth athlete_medals  \\\n",
       "0                     1      Beijing 2022              2000.0            NaN   \n",
       "1                     2  PyeongChang 2018              1995.0            NaN   \n",
       "2                     1      Beijing 2022              1993.0            NaN   \n",
       "3                     1      Beijing 2022              1995.0            NaN   \n",
       "4                     1      Beijing 2022              1989.0            NaN   \n",
       "\n",
       "   bio  \n",
       "0  NaN  \n",
       "1  NaN  \n",
       "2  NaN  \n",
       "3  NaN  \n",
       "4  NaN  "
      ]
     },
     "execution_count": 15,
     "metadata": {},
     "output_type": "execute_result"
    }
   ],
   "source": [
    "ath_df.head()"
   ]
  },
  {
   "cell_type": "code",
   "execution_count": 16,
   "id": "e5c7ef51",
   "metadata": {},
   "outputs": [
    {
     "data": {
      "text/html": [
       "<div>\n",
       "<style scoped>\n",
       "    .dataframe tbody tr th:only-of-type {\n",
       "        vertical-align: middle;\n",
       "    }\n",
       "\n",
       "    .dataframe tbody tr th {\n",
       "        vertical-align: top;\n",
       "    }\n",
       "\n",
       "    .dataframe thead th {\n",
       "        text-align: right;\n",
       "    }\n",
       "</style>\n",
       "<table border=\"1\" class=\"dataframe\">\n",
       "  <thead>\n",
       "    <tr style=\"text-align: right;\">\n",
       "      <th></th>\n",
       "      <th>athlete_url</th>\n",
       "      <th>athlete_full_name</th>\n",
       "      <th>games_participations</th>\n",
       "      <th>first_game</th>\n",
       "      <th>athlete_year_birth</th>\n",
       "      <th>athlete_medals</th>\n",
       "      <th>bio</th>\n",
       "    </tr>\n",
       "  </thead>\n",
       "  <tbody>\n",
       "    <tr>\n",
       "      <th>66119</th>\n",
       "      <td>https://olympics.com/en/athletes/clarence-ches...</td>\n",
       "      <td>Clarence Chester CHILDS</td>\n",
       "      <td>1</td>\n",
       "      <td>Stockholm 1912</td>\n",
       "      <td>1884.0</td>\n",
       "      <td>\\n\\n\\n1\\n\\nB\\n\\n</td>\n",
       "      <td>\\n\\n\\nTrack was but one of three sports at whi...</td>\n",
       "    </tr>\n",
       "  </tbody>\n",
       "</table>\n",
       "</div>"
      ],
      "text/plain": [
       "                                             athlete_url  \\\n",
       "66119  https://olympics.com/en/athletes/clarence-ches...   \n",
       "\n",
       "             athlete_full_name  games_participations      first_game  \\\n",
       "66119  Clarence Chester CHILDS                     1  Stockholm 1912   \n",
       "\n",
       "       athlete_year_birth    athlete_medals  \\\n",
       "66119              1884.0  \\n\\n\\n1\\n\\nB\\n\\n   \n",
       "\n",
       "                                                     bio  \n",
       "66119  \\n\\n\\nTrack was but one of three sports at whi...  "
      ]
     },
     "execution_count": 16,
     "metadata": {},
     "output_type": "execute_result"
    }
   ],
   "source": [
    "ath_df.sample()"
   ]
  },
  {
   "cell_type": "code",
   "execution_count": 17,
   "id": "c01dc103",
   "metadata": {},
   "outputs": [
    {
     "name": "stdout",
     "output_type": "stream",
     "text": [
      "<class 'pandas.core.frame.DataFrame'>\n",
      "RangeIndex: 75904 entries, 0 to 75903\n",
      "Data columns (total 7 columns):\n",
      " #   Column                Non-Null Count  Dtype  \n",
      "---  ------                --------------  -----  \n",
      " 0   athlete_url           75904 non-null  object \n",
      " 1   athlete_full_name     75904 non-null  object \n",
      " 2   games_participations  75904 non-null  int64  \n",
      " 3   first_game            75882 non-null  object \n",
      " 4   athlete_year_birth    73448 non-null  float64\n",
      " 5   athlete_medals        15352 non-null  object \n",
      " 6   bio                   22842 non-null  object \n",
      "dtypes: float64(1), int64(1), object(5)\n",
      "memory usage: 4.1+ MB\n"
     ]
    }
   ],
   "source": [
    "ath_df.info()"
   ]
  },
  {
   "cell_type": "markdown",
   "id": "16b05648",
   "metadata": {},
   "source": [
    "# Top 5 Participants in Games"
   ]
  },
  {
   "cell_type": "code",
   "execution_count": 18,
   "id": "9dc94ef0",
   "metadata": {},
   "outputs": [
    {
     "data": {
      "text/html": [
       "<div>\n",
       "<style scoped>\n",
       "    .dataframe tbody tr th:only-of-type {\n",
       "        vertical-align: middle;\n",
       "    }\n",
       "\n",
       "    .dataframe tbody tr th {\n",
       "        vertical-align: top;\n",
       "    }\n",
       "\n",
       "    .dataframe thead th {\n",
       "        text-align: right;\n",
       "    }\n",
       "</style>\n",
       "<table border=\"1\" class=\"dataframe\">\n",
       "  <thead>\n",
       "    <tr style=\"text-align: right;\">\n",
       "      <th></th>\n",
       "      <th>athlete_full_name</th>\n",
       "      <th>games_participations</th>\n",
       "    </tr>\n",
       "  </thead>\n",
       "  <tbody>\n",
       "    <tr>\n",
       "      <th>13932</th>\n",
       "      <td>Ian MILLAR</td>\n",
       "      <td>10</td>\n",
       "    </tr>\n",
       "    <tr>\n",
       "      <th>2167</th>\n",
       "      <td>Nino SALUKVADZE</td>\n",
       "      <td>9</td>\n",
       "    </tr>\n",
       "    <tr>\n",
       "      <th>14975</th>\n",
       "      <td>Afanasijs KUZMINS</td>\n",
       "      <td>9</td>\n",
       "    </tr>\n",
       "    <tr>\n",
       "      <th>52073</th>\n",
       "      <td>Hubert RAUDASCHL</td>\n",
       "      <td>9</td>\n",
       "    </tr>\n",
       "    <tr>\n",
       "      <th>1755</th>\n",
       "      <td>Claudia PECHSTEIN</td>\n",
       "      <td>8</td>\n",
       "    </tr>\n",
       "  </tbody>\n",
       "</table>\n",
       "</div>"
      ],
      "text/plain": [
       "       athlete_full_name  games_participations\n",
       "13932         Ian MILLAR                    10\n",
       "2167     Nino SALUKVADZE                     9\n",
       "14975  Afanasijs KUZMINS                     9\n",
       "52073   Hubert RAUDASCHL                     9\n",
       "1755   Claudia PECHSTEIN                     8"
      ]
     },
     "execution_count": 18,
     "metadata": {},
     "output_type": "execute_result"
    }
   ],
   "source": [
    "ath_df.sort_values(by='games_participations',ascending=False).head()[['athlete_full_name','games_participations']]"
   ]
  },
  {
   "cell_type": "code",
   "execution_count": 23,
   "id": "c371ad61",
   "metadata": {},
   "outputs": [
    {
     "ename": "KeyError",
     "evalue": "'first_game'",
     "output_type": "error",
     "traceback": [
      "\u001b[1;31m---------------------------------------------------------------------------\u001b[0m",
      "\u001b[1;31mKeyError\u001b[0m                                  Traceback (most recent call last)",
      "File \u001b[1;32m~\\anaconda2\\lib\\site-packages\\pandas\\core\\indexes\\base.py:3805\u001b[0m, in \u001b[0;36mIndex.get_loc\u001b[1;34m(self, key)\u001b[0m\n\u001b[0;32m   3804\u001b[0m \u001b[38;5;28;01mtry\u001b[39;00m:\n\u001b[1;32m-> 3805\u001b[0m     \u001b[38;5;28;01mreturn\u001b[39;00m \u001b[38;5;28;43mself\u001b[39;49m\u001b[38;5;241;43m.\u001b[39;49m\u001b[43m_engine\u001b[49m\u001b[38;5;241;43m.\u001b[39;49m\u001b[43mget_loc\u001b[49m\u001b[43m(\u001b[49m\u001b[43mcasted_key\u001b[49m\u001b[43m)\u001b[49m\n\u001b[0;32m   3806\u001b[0m \u001b[38;5;28;01mexcept\u001b[39;00m \u001b[38;5;167;01mKeyError\u001b[39;00m \u001b[38;5;28;01mas\u001b[39;00m err:\n",
      "File \u001b[1;32mindex.pyx:167\u001b[0m, in \u001b[0;36mpandas._libs.index.IndexEngine.get_loc\u001b[1;34m()\u001b[0m\n",
      "File \u001b[1;32mindex.pyx:196\u001b[0m, in \u001b[0;36mpandas._libs.index.IndexEngine.get_loc\u001b[1;34m()\u001b[0m\n",
      "File \u001b[1;32mpandas\\\\_libs\\\\hashtable_class_helper.pxi:7081\u001b[0m, in \u001b[0;36mpandas._libs.hashtable.PyObjectHashTable.get_item\u001b[1;34m()\u001b[0m\n",
      "File \u001b[1;32mpandas\\\\_libs\\\\hashtable_class_helper.pxi:7089\u001b[0m, in \u001b[0;36mpandas._libs.hashtable.PyObjectHashTable.get_item\u001b[1;34m()\u001b[0m\n",
      "\u001b[1;31mKeyError\u001b[0m: 'first_game'",
      "\nThe above exception was the direct cause of the following exception:\n",
      "\u001b[1;31mKeyError\u001b[0m                                  Traceback (most recent call last)",
      "Cell \u001b[1;32mIn[23], line 2\u001b[0m\n\u001b[0;32m      1\u001b[0m \u001b[38;5;66;03m# Extract year and country\u001b[39;00m\n\u001b[1;32m----> 2\u001b[0m ath_df[\u001b[38;5;124m'\u001b[39m\u001b[38;5;124mfirst_game_year\u001b[39m\u001b[38;5;124m'\u001b[39m]\u001b[38;5;241m=\u001b[39m\u001b[43math_df\u001b[49m\u001b[43m[\u001b[49m\u001b[38;5;124;43m'\u001b[39;49m\u001b[38;5;124;43mfirst_game\u001b[39;49m\u001b[38;5;124;43m'\u001b[39;49m\u001b[43m]\u001b[49m\u001b[38;5;241m.\u001b[39mstr\u001b[38;5;241m.\u001b[39mextract(\u001b[38;5;124mr\u001b[39m\u001b[38;5;124m'\u001b[39m\u001b[38;5;124m(\u001b[39m\u001b[38;5;124m\\\u001b[39m\u001b[38;5;124md\u001b[39m\u001b[38;5;132;01m{4}\u001b[39;00m\u001b[38;5;124m)\u001b[39m\u001b[38;5;124m'\u001b[39m)\n\u001b[0;32m      3\u001b[0m ath_df[\u001b[38;5;124m'\u001b[39m\u001b[38;5;124mfirst_game_country\u001b[39m\u001b[38;5;124m'\u001b[39m]\u001b[38;5;241m=\u001b[39math_df[\u001b[38;5;124m'\u001b[39m\u001b[38;5;124mfirst_game\u001b[39m\u001b[38;5;124m'\u001b[39m]\u001b[38;5;241m.\u001b[39mstr\u001b[38;5;241m.\u001b[39mextract(\u001b[38;5;124mr\u001b[39m\u001b[38;5;124m'\u001b[39m\u001b[38;5;124m([A-za-z\u001b[39m\u001b[38;5;124m\\\u001b[39m\u001b[38;5;124ms]+)\u001b[39m\u001b[38;5;124m'\u001b[39m)\n\u001b[0;32m      4\u001b[0m ath_df[\u001b[38;5;124m'\u001b[39m\u001b[38;5;124mfirst_game_country\u001b[39m\u001b[38;5;124m'\u001b[39m]\u001b[38;5;241m=\u001b[39math_df[\u001b[38;5;124m'\u001b[39m\u001b[38;5;124mfirst_game_country\u001b[39m\u001b[38;5;124m'\u001b[39m]\u001b[38;5;241m.\u001b[39mstr\u001b[38;5;241m.\u001b[39mstrip()\n",
      "File \u001b[1;32m~\\anaconda2\\lib\\site-packages\\pandas\\core\\frame.py:4102\u001b[0m, in \u001b[0;36mDataFrame.__getitem__\u001b[1;34m(self, key)\u001b[0m\n\u001b[0;32m   4100\u001b[0m \u001b[38;5;28;01mif\u001b[39;00m \u001b[38;5;28mself\u001b[39m\u001b[38;5;241m.\u001b[39mcolumns\u001b[38;5;241m.\u001b[39mnlevels \u001b[38;5;241m>\u001b[39m \u001b[38;5;241m1\u001b[39m:\n\u001b[0;32m   4101\u001b[0m     \u001b[38;5;28;01mreturn\u001b[39;00m \u001b[38;5;28mself\u001b[39m\u001b[38;5;241m.\u001b[39m_getitem_multilevel(key)\n\u001b[1;32m-> 4102\u001b[0m indexer \u001b[38;5;241m=\u001b[39m \u001b[38;5;28;43mself\u001b[39;49m\u001b[38;5;241;43m.\u001b[39;49m\u001b[43mcolumns\u001b[49m\u001b[38;5;241;43m.\u001b[39;49m\u001b[43mget_loc\u001b[49m\u001b[43m(\u001b[49m\u001b[43mkey\u001b[49m\u001b[43m)\u001b[49m\n\u001b[0;32m   4103\u001b[0m \u001b[38;5;28;01mif\u001b[39;00m is_integer(indexer):\n\u001b[0;32m   4104\u001b[0m     indexer \u001b[38;5;241m=\u001b[39m [indexer]\n",
      "File \u001b[1;32m~\\anaconda2\\lib\\site-packages\\pandas\\core\\indexes\\base.py:3812\u001b[0m, in \u001b[0;36mIndex.get_loc\u001b[1;34m(self, key)\u001b[0m\n\u001b[0;32m   3807\u001b[0m     \u001b[38;5;28;01mif\u001b[39;00m \u001b[38;5;28misinstance\u001b[39m(casted_key, \u001b[38;5;28mslice\u001b[39m) \u001b[38;5;129;01mor\u001b[39;00m (\n\u001b[0;32m   3808\u001b[0m         \u001b[38;5;28misinstance\u001b[39m(casted_key, abc\u001b[38;5;241m.\u001b[39mIterable)\n\u001b[0;32m   3809\u001b[0m         \u001b[38;5;129;01mand\u001b[39;00m \u001b[38;5;28many\u001b[39m(\u001b[38;5;28misinstance\u001b[39m(x, \u001b[38;5;28mslice\u001b[39m) \u001b[38;5;28;01mfor\u001b[39;00m x \u001b[38;5;129;01min\u001b[39;00m casted_key)\n\u001b[0;32m   3810\u001b[0m     ):\n\u001b[0;32m   3811\u001b[0m         \u001b[38;5;28;01mraise\u001b[39;00m InvalidIndexError(key)\n\u001b[1;32m-> 3812\u001b[0m     \u001b[38;5;28;01mraise\u001b[39;00m \u001b[38;5;167;01mKeyError\u001b[39;00m(key) \u001b[38;5;28;01mfrom\u001b[39;00m \u001b[38;5;21;01merr\u001b[39;00m\n\u001b[0;32m   3813\u001b[0m \u001b[38;5;28;01mexcept\u001b[39;00m \u001b[38;5;167;01mTypeError\u001b[39;00m:\n\u001b[0;32m   3814\u001b[0m     \u001b[38;5;66;03m# If we have a listlike key, _check_indexing_error will raise\u001b[39;00m\n\u001b[0;32m   3815\u001b[0m     \u001b[38;5;66;03m#  InvalidIndexError. Otherwise we fall through and re-raise\u001b[39;00m\n\u001b[0;32m   3816\u001b[0m     \u001b[38;5;66;03m#  the TypeError.\u001b[39;00m\n\u001b[0;32m   3817\u001b[0m     \u001b[38;5;28mself\u001b[39m\u001b[38;5;241m.\u001b[39m_check_indexing_error(key)\n",
      "\u001b[1;31mKeyError\u001b[0m: 'first_game'"
     ]
    }
   ],
   "source": [
    "# Extract year and country\n",
    "ath_df['first_game_year']=ath_df['first_game'].str.extract(r'(\\d{4})')\n",
    "ath_df['first_game_country']=ath_df['first_game'].str.extract(r'([A-za-z\\s]+)')\n",
    "ath_df['first_game_country']=ath_df['first_game_country'].str.strip()\n",
    "\n",
    "ath_df['athlete_medals']=ath_df['athlete_medals'].str.replace(r'[n\\t\\r]','',regex=True).str.strip()"
   ]
  },
  {
   "cell_type": "code",
   "execution_count": 20,
   "id": "5451c971",
   "metadata": {},
   "outputs": [],
   "source": [
    "del ath_df['athlete_url']\n",
    "del ath_df['bio']\n",
    "del ath_df['first_game']"
   ]
  },
  {
   "cell_type": "code",
   "execution_count": 21,
   "id": "2241fb33",
   "metadata": {},
   "outputs": [
    {
     "data": {
      "text/html": [
       "<div>\n",
       "<style scoped>\n",
       "    .dataframe tbody tr th:only-of-type {\n",
       "        vertical-align: middle;\n",
       "    }\n",
       "\n",
       "    .dataframe tbody tr th {\n",
       "        vertical-align: top;\n",
       "    }\n",
       "\n",
       "    .dataframe thead th {\n",
       "        text-align: right;\n",
       "    }\n",
       "</style>\n",
       "<table border=\"1\" class=\"dataframe\">\n",
       "  <thead>\n",
       "    <tr style=\"text-align: right;\">\n",
       "      <th></th>\n",
       "      <th>athlete_full_name</th>\n",
       "      <th>games_participations</th>\n",
       "      <th>athlete_year_birth</th>\n",
       "      <th>athlete_medals</th>\n",
       "      <th>first_game_year</th>\n",
       "      <th>first_game_country</th>\n",
       "    </tr>\n",
       "  </thead>\n",
       "  <tbody>\n",
       "    <tr>\n",
       "      <th>0</th>\n",
       "      <td>Cooper WOODS-TOPALOVIC</td>\n",
       "      <td>1</td>\n",
       "      <td>2000.0</td>\n",
       "      <td>NaN</td>\n",
       "      <td>2022</td>\n",
       "      <td>Beijing</td>\n",
       "    </tr>\n",
       "    <tr>\n",
       "      <th>1</th>\n",
       "      <td>Felix ELOFSSON</td>\n",
       "      <td>2</td>\n",
       "      <td>1995.0</td>\n",
       "      <td>NaN</td>\n",
       "      <td>2018</td>\n",
       "      <td>PyeongChang</td>\n",
       "    </tr>\n",
       "    <tr>\n",
       "      <th>2</th>\n",
       "      <td>Dylan WALCZYK</td>\n",
       "      <td>1</td>\n",
       "      <td>1993.0</td>\n",
       "      <td>NaN</td>\n",
       "      <td>2022</td>\n",
       "      <td>Beijing</td>\n",
       "    </tr>\n",
       "    <tr>\n",
       "      <th>3</th>\n",
       "      <td>Olli PENTTALA</td>\n",
       "      <td>1</td>\n",
       "      <td>1995.0</td>\n",
       "      <td>NaN</td>\n",
       "      <td>2022</td>\n",
       "      <td>Beijing</td>\n",
       "    </tr>\n",
       "    <tr>\n",
       "      <th>4</th>\n",
       "      <td>Dmitriy REIKHERD</td>\n",
       "      <td>1</td>\n",
       "      <td>1989.0</td>\n",
       "      <td>NaN</td>\n",
       "      <td>2022</td>\n",
       "      <td>Beijing</td>\n",
       "    </tr>\n",
       "  </tbody>\n",
       "</table>\n",
       "</div>"
      ],
      "text/plain": [
       "        athlete_full_name  games_participations  athlete_year_birth  \\\n",
       "0  Cooper WOODS-TOPALOVIC                     1              2000.0   \n",
       "1          Felix ELOFSSON                     2              1995.0   \n",
       "2           Dylan WALCZYK                     1              1993.0   \n",
       "3           Olli PENTTALA                     1              1995.0   \n",
       "4        Dmitriy REIKHERD                     1              1989.0   \n",
       "\n",
       "  athlete_medals first_game_year first_game_country  \n",
       "0            NaN            2022            Beijing  \n",
       "1            NaN            2018        PyeongChang  \n",
       "2            NaN            2022            Beijing  \n",
       "3            NaN            2022            Beijing  \n",
       "4            NaN            2022            Beijing  "
      ]
     },
     "execution_count": 21,
     "metadata": {},
     "output_type": "execute_result"
    }
   ],
   "source": [
    "ath_df.head()"
   ]
  },
  {
   "cell_type": "code",
   "execution_count": 22,
   "id": "ad93854b",
   "metadata": {},
   "outputs": [
    {
     "data": {
      "text/html": [
       "<div>\n",
       "<style scoped>\n",
       "    .dataframe tbody tr th:only-of-type {\n",
       "        vertical-align: middle;\n",
       "    }\n",
       "\n",
       "    .dataframe tbody tr th {\n",
       "        vertical-align: top;\n",
       "    }\n",
       "\n",
       "    .dataframe thead th {\n",
       "        text-align: right;\n",
       "    }\n",
       "</style>\n",
       "<table border=\"1\" class=\"dataframe\">\n",
       "  <thead>\n",
       "    <tr style=\"text-align: right;\">\n",
       "      <th></th>\n",
       "      <th>athlete_full_name</th>\n",
       "      <th>games_participations</th>\n",
       "      <th>athlete_year_birth</th>\n",
       "      <th>athlete_medals</th>\n",
       "      <th>first_game_year</th>\n",
       "      <th>first_game_country</th>\n",
       "    </tr>\n",
       "  </thead>\n",
       "  <tbody>\n",
       "    <tr>\n",
       "      <th>11349</th>\n",
       "      <td>Vanessa ZAMBOTTI</td>\n",
       "      <td>4</td>\n",
       "      <td>1982.0</td>\n",
       "      <td>NaN</td>\n",
       "      <td>2004</td>\n",
       "      <td>Athens</td>\n",
       "    </tr>\n",
       "    <tr>\n",
       "      <th>69145</th>\n",
       "      <td>Kira WALKENHORST</td>\n",
       "      <td>1</td>\n",
       "      <td>1990.0</td>\n",
       "      <td>1\\n\\nG</td>\n",
       "      <td>2016</td>\n",
       "      <td>Rio</td>\n",
       "    </tr>\n",
       "    <tr>\n",
       "      <th>29012</th>\n",
       "      <td>Hiroaki YAMAKAGE</td>\n",
       "      <td>1</td>\n",
       "      <td>NaN</td>\n",
       "      <td>NaN</td>\n",
       "      <td>1998</td>\n",
       "      <td>Nagano</td>\n",
       "    </tr>\n",
       "    <tr>\n",
       "      <th>38293</th>\n",
       "      <td>Simione KURUVOLI</td>\n",
       "      <td>2</td>\n",
       "      <td>1951.0</td>\n",
       "      <td>NaN</td>\n",
       "      <td>1984</td>\n",
       "      <td>Los Angeles</td>\n",
       "    </tr>\n",
       "    <tr>\n",
       "      <th>36996</th>\n",
       "      <td>Ricardo Joseph TAITANO</td>\n",
       "      <td>1</td>\n",
       "      <td>NaN</td>\n",
       "      <td>NaN</td>\n",
       "      <td>1988</td>\n",
       "      <td>Seoul</td>\n",
       "    </tr>\n",
       "  </tbody>\n",
       "</table>\n",
       "</div>"
      ],
      "text/plain": [
       "            athlete_full_name  games_participations  athlete_year_birth  \\\n",
       "11349        Vanessa ZAMBOTTI                     4              1982.0   \n",
       "69145        Kira WALKENHORST                     1              1990.0   \n",
       "29012        Hiroaki YAMAKAGE                     1                 NaN   \n",
       "38293        Simione KURUVOLI                     2              1951.0   \n",
       "36996  Ricardo Joseph TAITANO                     1                 NaN   \n",
       "\n",
       "      athlete_medals first_game_year first_game_country  \n",
       "11349            NaN            2004             Athens  \n",
       "69145         1\\n\\nG            2016                Rio  \n",
       "29012            NaN            1998             Nagano  \n",
       "38293            NaN            1984        Los Angeles  \n",
       "36996            NaN            1988              Seoul  "
      ]
     },
     "execution_count": 22,
     "metadata": {},
     "output_type": "execute_result"
    }
   ],
   "source": [
    "ath_df.sample(5)"
   ]
  },
  {
   "cell_type": "code",
   "execution_count": 35,
   "id": "8706ec05",
   "metadata": {},
   "outputs": [
    {
     "data": {
      "text/plain": [
       "array([nan, '\\n\\n\\n1\\n\\nS\\n\\n', '\\n\\n\\n1\\n\\nB\\n\\n',\n",
       "       '\\n\\n\\n1\\n\\nG\\n\\n\\n\\n2\\n\\nS\\n\\n', '\\n\\n\\n1\\n\\nG\\n\\n',\n",
       "       '\\n\\n\\n1\\n\\nG\\n\\n\\n\\n1\\n\\nB\\n\\n', '\\n\\n\\n2\\n\\nG\\n\\n\\n\\n1\\n\\nS\\n\\n',\n",
       "       '\\n\\n\\n1\\n\\nS\\n\\n\\n\\n1\\n\\nB\\n\\n', '\\n\\n\\n2\\n\\nS\\n\\n\\n\\n1\\n\\nB\\n\\n',\n",
       "       '\\n\\n\\n2\\n\\nB\\n\\n', '\\n\\n\\n1\\n\\nG\\n\\n\\n\\n1\\n\\nS\\n\\n\\n\\n1\\n\\nB\\n\\n',\n",
       "       '\\n\\n\\n1\\n\\nG\\n\\n\\n\\n1\\n\\nS\\n\\n', '\\n\\n\\n1\\n\\nS\\n\\n\\n\\n3\\n\\nB\\n\\n',\n",
       "       '\\n\\n\\n2\\n\\nG\\n\\n\\n\\n4\\n\\nS\\n\\n\\n\\n5\\n\\nB\\n\\n',\n",
       "       '\\n\\n\\n3\\n\\nG\\n\\n\\n\\n2\\n\\nS\\n\\n', '\\n\\n\\n2\\n\\nG\\n\\n\\n\\n2\\n\\nB\\n\\n',\n",
       "       '\\n\\n\\n2\\n\\nG\\n\\n\\n\\n2\\n\\nS\\n\\n\\n\\n1\\n\\nB\\n\\n',\n",
       "       '\\n\\n\\n4\\n\\nG\\n\\n\\n\\n1\\n\\nS\\n\\n\\n\\n1\\n\\nB\\n\\n', '\\n\\n\\n2\\n\\nG\\n\\n',\n",
       "       '\\n\\n\\n1\\n\\nS\\n\\n\\n\\n2\\n\\nB\\n\\n', '\\n\\n\\n2\\n\\nG\\n\\n\\n\\n1\\n\\nB\\n\\n',\n",
       "       '\\n\\n\\n3\\n\\nB\\n\\n', '\\n\\n\\n2\\n\\nS\\n\\n', '\\n\\n\\n3\\n\\nG\\n\\n',\n",
       "       '\\n\\n\\n1\\n\\nG\\n\\n\\n\\n2\\n\\nS\\n\\n\\n\\n1\\n\\nB\\n\\n',\n",
       "       '\\n\\n\\n1\\n\\nG\\n\\n\\n\\n2\\n\\nB\\n\\n', '\\n\\n\\n4\\n\\nG\\n\\n',\n",
       "       '\\n\\n\\n3\\n\\nG\\n\\n\\n\\n1\\n\\nB\\n\\n', '\\n\\n\\n6\\n\\nG\\n\\n\\n\\n1\\n\\nB\\n\\n',\n",
       "       '\\n\\n\\n3\\n\\nG\\n\\n\\n\\n2\\n\\nS\\n\\n\\n\\n1\\n\\nB\\n\\n',\n",
       "       '\\n\\n\\n2\\n\\nG\\n\\n\\n\\n3\\n\\nS\\n\\n',\n",
       "       '\\n\\n\\n5\\n\\nG\\n\\n\\n\\n2\\n\\nS\\n\\n\\n\\n1\\n\\nB\\n\\n',\n",
       "       '\\n\\n\\n3\\n\\nG\\n\\n\\n\\n2\\n\\nB\\n\\n',\n",
       "       '\\n\\n\\n2\\n\\nG\\n\\n\\n\\n3\\n\\nS\\n\\n\\n\\n3\\n\\nB\\n\\n',\n",
       "       '\\n\\n\\n1\\n\\nG\\n\\n\\n\\n2\\n\\nS\\n\\n\\n\\n2\\n\\nB\\n\\n',\n",
       "       '\\n\\n\\n1\\n\\nG\\n\\n\\n\\n3\\n\\nB\\n\\n',\n",
       "       '\\n\\n\\n3\\n\\nG\\n\\n\\n\\n1\\n\\nS\\n\\n\\n\\n1\\n\\nB\\n\\n',\n",
       "       '\\n\\n\\n5\\n\\nG\\n\\n\\n\\n1\\n\\nS\\n\\n\\n\\n1\\n\\nB\\n\\n', '\\n\\n\\n4\\n\\nB\\n\\n',\n",
       "       '\\n\\n\\n1\\n\\nG\\n\\n\\n\\n3\\n\\nS\\n\\n\\n\\n1\\n\\nB\\n\\n',\n",
       "       '\\n\\n\\n3\\n\\nS\\n\\n\\n\\n1\\n\\nB\\n\\n', '\\n\\n\\n2\\n\\nS\\n\\n\\n\\n3\\n\\nB\\n\\n',\n",
       "       '\\n\\n\\n3\\n\\nG\\n\\n\\n\\n6\\n\\nS\\n\\n',\n",
       "       '\\n\\n\\n2\\n\\nG\\n\\n\\n\\n1\\n\\nS\\n\\n\\n\\n1\\n\\nB\\n\\n',\n",
       "       '\\n\\n\\n2\\n\\nG\\n\\n\\n\\n4\\n\\nS\\n\\n\\n\\n1\\n\\nB\\n\\n',\n",
       "       '\\n\\n\\n6\\n\\nG\\n\\n\\n\\n5\\n\\nS\\n\\n\\n\\n2\\n\\nB\\n\\n',\n",
       "       '\\n\\n\\n5\\n\\nG\\n\\n\\n\\n2\\n\\nS\\n\\n\\n\\n2\\n\\nB\\n\\n',\n",
       "       '\\n\\n\\n4\\n\\nG\\n\\n\\n\\n2\\n\\nS\\n\\n\\n\\n3\\n\\nB\\n\\n',\n",
       "       '\\n\\n\\n3\\n\\nG\\n\\n\\n\\n2\\n\\nS\\n\\n\\n\\n2\\n\\nB\\n\\n',\n",
       "       '\\n\\n\\n2\\n\\nG\\n\\n\\n\\n3\\n\\nS\\n\\n\\n\\n1\\n\\nB\\n\\n',\n",
       "       '\\n\\n\\n4\\n\\nG\\n\\n\\n\\n2\\n\\nS\\n\\n', '\\n\\n\\n2\\n\\nS\\n\\n\\n\\n2\\n\\nB\\n\\n',\n",
       "       '\\n\\n\\n3\\n\\nS\\n\\n\\n\\n2\\n\\nB\\n\\n', '\\n\\n\\n2\\n\\nG\\n\\n\\n\\n2\\n\\nS\\n\\n',\n",
       "       '\\n\\n\\n5\\n\\nG\\n\\n\\n\\n1\\n\\nB\\n\\n',\n",
       "       '\\n\\n\\n6\\n\\nG\\n\\n\\n\\n1\\n\\nS\\n\\n\\n\\n1\\n\\nB\\n\\n',\n",
       "       '\\n\\n\\n1\\n\\nG\\n\\n\\n\\n1\\n\\nS\\n\\n\\n\\n2\\n\\nB\\n\\n', '\\n\\n\\n5\\n\\nG\\n\\n',\n",
       "       '\\n\\n\\n2\\n\\nS\\n\\n\\n\\n4\\n\\nB\\n\\n', '\\n\\n\\n7\\n\\nG\\n\\n\\n\\n2\\n\\nS\\n\\n',\n",
       "       '\\n\\n\\n4\\n\\nG\\n\\n\\n\\n1\\n\\nS\\n\\n\\n\\n2\\n\\nB\\n\\n',\n",
       "       '\\n\\n\\n3\\n\\nG\\n\\n\\n\\n3\\n\\nB\\n\\n',\n",
       "       '\\n\\n\\n1\\n\\nG\\n\\n\\n\\n4\\n\\nS\\n\\n\\n\\n2\\n\\nB\\n\\n',\n",
       "       '\\n\\n\\n3\\n\\nG\\n\\n\\n\\n1\\n\\nS\\n\\n', '\\n\\n\\n7\\n\\nG\\n\\n\\n\\n5\\n\\nS\\n\\n',\n",
       "       '\\n\\n\\n3\\n\\nG\\n\\n\\n\\n1\\n\\nS\\n\\n\\n\\n2\\n\\nB\\n\\n',\n",
       "       '\\n\\n\\n1\\n\\nG\\n\\n\\n\\n3\\n\\nS\\n\\n',\n",
       "       '\\n\\n\\n1\\n\\nG\\n\\n\\n\\n1\\n\\nS\\n\\n\\n\\n4\\n\\nB\\n\\n',\n",
       "       '\\n\\n\\n7\\n\\nG\\n\\n\\n\\n3\\n\\nS\\n\\n\\n\\n1\\n\\nB\\n\\n',\n",
       "       '\\n\\n\\n5\\n\\nG\\n\\n\\n\\n1\\n\\nS\\n\\n',\n",
       "       '\\n\\n\\n1\\n\\nG\\n\\n\\n\\n1\\n\\nS\\n\\n\\n\\n3\\n\\nB\\n\\n',\n",
       "       '\\n\\n\\n3\\n\\nG\\n\\n\\n\\n4\\n\\nS\\n\\n\\n\\n1\\n\\nB\\n\\n',\n",
       "       '\\n\\n\\n7\\n\\nG\\n\\n\\n\\n3\\n\\nS\\n\\n',\n",
       "       '\\n\\n\\n4\\n\\nG\\n\\n\\n\\n1\\n\\nS\\n\\n\\n\\n3\\n\\nB\\n\\n',\n",
       "       '\\n\\n\\n5\\n\\nG\\n\\n\\n\\n2\\n\\nS\\n\\n\\n\\n4\\n\\nB\\n\\n',\n",
       "       '\\n\\n\\n3\\n\\nG\\n\\n\\n\\n3\\n\\nS\\n\\n\\n\\n1\\n\\nB\\n\\n', '\\n\\n\\n7\\n\\nG\\n\\n',\n",
       "       '\\n\\n\\n1\\n\\nG\\n\\n\\n\\n5\\n\\nS\\n\\n',\n",
       "       '\\n\\n\\n1\\n\\nG\\n\\n\\n\\n2\\n\\nS\\n\\n\\n\\n4\\n\\nB\\n\\n',\n",
       "       '\\n\\n\\n4\\n\\nS\\n\\n\\n\\n2\\n\\nB\\n\\n', '\\n\\n\\n2\\n\\nG\\n\\n\\n\\n3\\n\\nB\\n\\n',\n",
       "       '\\n\\n\\n5\\n\\nG\\n\\n\\n\\n2\\n\\nS\\n\\n',\n",
       "       '\\n\\n\\n4\\n\\nG\\n\\n\\n\\n3\\n\\nS\\n\\n\\n\\n1\\n\\nB\\n\\n',\n",
       "       '\\n\\n\\n3\\n\\nG\\n\\n\\n\\n3\\n\\nS\\n\\n', '\\n\\n\\n3\\n\\nS\\n\\n',\n",
       "       '\\n\\n\\n8\\n\\nG\\n\\n\\n\\n4\\n\\nS\\n\\n\\n\\n3\\n\\nB\\n\\n',\n",
       "       '\\n\\n\\n2\\n\\nG\\n\\n\\n\\n1\\n\\nS\\n\\n\\n\\n2\\n\\nB\\n\\n',\n",
       "       '\\n\\n\\n4\\n\\nG\\n\\n\\n\\n2\\n\\nB\\n\\n',\n",
       "       '\\n\\n\\n2\\n\\nG\\n\\n\\n\\n1\\n\\nS\\n\\n\\n\\n3\\n\\nB\\n\\n', '\\n\\n\\n4\\n\\nS\\n\\n',\n",
       "       '\\n\\n\\n8\\n\\nG\\n\\n', '\\n\\n\\n3\\n\\nG\\n\\n\\n\\n4\\n\\nS\\n\\n',\n",
       "       '\\n\\n\\n2\\n\\nG\\n\\n\\n\\n2\\n\\nS\\n\\n\\n\\n3\\n\\nB\\n\\n',\n",
       "       '\\n\\n\\n23\\n\\nG\\n\\n\\n\\n3\\n\\nS\\n\\n\\n\\n2\\n\\nB\\n\\n',\n",
       "       '\\n\\n\\n6\\n\\nG\\n\\n\\n\\n3\\n\\nS\\n\\n\\n\\n3\\n\\nB\\n\\n',\n",
       "       '\\n\\n\\n5\\n\\nG\\n\\n\\n\\n1\\n\\nS\\n\\n\\n\\n2\\n\\nB\\n\\n',\n",
       "       '\\n\\n\\n4\\n\\nG\\n\\n\\n\\n1\\n\\nS\\n\\n',\n",
       "       '\\n\\n\\n8\\n\\nG\\n\\n\\n\\n4\\n\\nS\\n\\n\\n\\n1\\n\\nB\\n\\n',\n",
       "       '\\n\\n\\n1\\n\\nG\\n\\n\\n\\n3\\n\\nS\\n\\n\\n\\n2\\n\\nB\\n\\n',\n",
       "       '\\n\\n\\n6\\n\\nG\\n\\n\\n\\n2\\n\\nB\\n\\n',\n",
       "       '\\n\\n\\n3\\n\\nG\\n\\n\\n\\n5\\n\\nS\\n\\n\\n\\n1\\n\\nB\\n\\n',\n",
       "       '\\n\\n\\n4\\n\\nG\\n\\n\\n\\n3\\n\\nS\\n\\n\\n\\n3\\n\\nB\\n\\n',\n",
       "       '\\n\\n\\n4\\n\\nG\\n\\n\\n\\n1\\n\\nB\\n\\n', '\\n\\n\\n1\\n\\nG\\n\\n\\n\\n4\\n\\nS\\n\\n',\n",
       "       '\\n\\n\\n6\\n\\nG\\n\\n\\n\\n1\\n\\nS\\n\\n\\n\\n2\\n\\nB\\n\\n',\n",
       "       '\\n\\n\\n6\\n\\nG\\n\\n\\n\\n1\\n\\nS\\n\\n',\n",
       "       '\\n\\n\\n1\\n\\nG\\n\\n\\n\\n2\\n\\nS\\n\\n\\n\\n3\\n\\nB\\n\\n',\n",
       "       '\\n\\n\\n3\\n\\nG\\n\\n\\n\\n1\\n\\nS\\n\\n\\n\\n3\\n\\nB\\n\\n',\n",
       "       '\\n\\n\\n2\\n\\nG\\n\\n\\n\\n2\\n\\nS\\n\\n\\n\\n4\\n\\nB\\n\\n',\n",
       "       '\\n\\n\\n3\\n\\nG\\n\\n\\n\\n5\\n\\nS\\n\\n',\n",
       "       '\\n\\n\\n3\\n\\nG\\n\\n\\n\\n4\\n\\nS\\n\\n\\n\\n5\\n\\nB\\n\\n', '\\n\\n\\n5\\n\\nB\\n\\n',\n",
       "       '\\n\\n\\n4\\n\\nG\\n\\n\\n\\n2\\n\\nS\\n\\n\\n\\n2\\n\\nB\\n\\n',\n",
       "       '\\n\\n\\n4\\n\\nG\\n\\n\\n\\n4\\n\\nS\\n\\n\\n\\n4\\n\\nB\\n\\n',\n",
       "       '\\n\\n\\n2\\n\\nG\\n\\n\\n\\n4\\n\\nS\\n\\n\\n\\n3\\n\\nB\\n\\n',\n",
       "       '\\n\\n\\n1\\n\\nG\\n\\n\\n\\n4\\n\\nS\\n\\n\\n\\n1\\n\\nB\\n\\n',\n",
       "       '\\n\\n\\n1\\n\\nG\\n\\n\\n\\n4\\n\\nB\\n\\n', '\\n\\n\\n4\\n\\nG\\n\\n\\n\\n5\\n\\nS\\n\\n',\n",
       "       '\\n\\n\\n5\\n\\nG\\n\\n\\n\\n3\\n\\nS\\n\\n\\n\\n1\\n\\nB\\n\\n',\n",
       "       '\\n\\n\\n4\\n\\nS\\n\\n\\n\\n6\\n\\nB\\n\\n',\n",
       "       '\\n\\n\\n8\\n\\nG\\n\\n\\n\\n3\\n\\nS\\n\\n\\n\\n1\\n\\nB\\n\\n',\n",
       "       '\\n\\n\\n4\\n\\nG\\n\\n\\n\\n2\\n\\nS\\n\\n\\n\\n6\\n\\nB\\n\\n',\n",
       "       '\\n\\n\\n2\\n\\nG\\n\\n\\n\\n3\\n\\nS\\n\\n\\n\\n5\\n\\nB\\n\\n',\n",
       "       '\\n\\n\\n3\\n\\nS\\n\\n\\n\\n6\\n\\nB\\n\\n',\n",
       "       '\\n\\n\\n2\\n\\nG\\n\\n\\n\\n4\\n\\nS\\n\\n\\n\\n2\\n\\nB\\n\\n', '\\n\\n\\n6\\n\\nG\\n\\n',\n",
       "       '\\n\\n\\n3\\n\\nG\\n\\n\\n\\n4\\n\\nB\\n\\n', '\\n\\n\\n8\\n\\nG\\n\\n\\n\\n4\\n\\nS\\n\\n',\n",
       "       '\\n\\n\\n6\\n\\nB\\n\\n', '\\n\\n\\n6\\n\\nG\\n\\n\\n\\n4\\n\\nB\\n\\n',\n",
       "       '\\n\\n\\n9\\n\\nG\\n\\n\\n\\n1\\n\\nS\\n\\n', '\\n\\n\\n4\\n\\nS\\n\\n\\n\\n1\\n\\nB\\n\\n',\n",
       "       '\\n\\n\\n1\\n\\nG\\n\\n\\n\\n5\\n\\nS\\n\\n\\n\\n1\\n\\nB\\n\\n',\n",
       "       '\\n\\n\\n2\\n\\nG\\n\\n\\n\\n4\\n\\nS\\n\\n',\n",
       "       '\\n\\n\\n8\\n\\nG\\n\\n\\n\\n2\\n\\nS\\n\\n\\n\\n1\\n\\nB\\n\\n',\n",
       "       '\\n\\n\\n4\\n\\nG\\n\\n\\n\\n5\\n\\nS\\n\\n\\n\\n1\\n\\nB\\n\\n',\n",
       "       '\\n\\n\\n2\\n\\nG\\n\\n\\n\\n2\\n\\nS\\n\\n\\n\\n2\\n\\nB\\n\\n',\n",
       "       '\\n\\n\\n3\\n\\nG\\n\\n\\n\\n6\\n\\nS\\n\\n\\n\\n1\\n\\nB\\n\\n',\n",
       "       '\\n\\n\\n7\\n\\nG\\n\\n\\n\\n5\\n\\nS\\n\\n\\n\\n3\\n\\nB\\n\\n',\n",
       "       '\\n\\n\\n2\\n\\nG\\n\\n\\n\\n3\\n\\nS\\n\\n\\n\\n2\\n\\nB\\n\\n',\n",
       "       '\\n\\n\\n4\\n\\nG\\n\\n\\n\\n4\\n\\nS\\n\\n', '\\n\\n\\n4\\n\\nG\\n\\n\\n\\n3\\n\\nS\\n\\n',\n",
       "       '\\n\\n\\n5\\n\\nG\\n\\n\\n\\n1\\n\\nS\\n\\n\\n\\n3\\n\\nB\\n\\n',\n",
       "       '\\n\\n\\n3\\n\\nG\\n\\n\\n\\n3\\n\\nS\\n\\n\\n\\n3\\n\\nB\\n\\n',\n",
       "       '\\n\\n\\n4\\n\\nG\\n\\n\\n\\n3\\n\\nS\\n\\n\\n\\n2\\n\\nB\\n\\n',\n",
       "       '\\n\\n\\n6\\n\\nG\\n\\n\\n\\n2\\n\\nS\\n\\n\\n\\n2\\n\\nB\\n\\n',\n",
       "       '\\n\\n\\n2\\n\\nG\\n\\n\\n\\n6\\n\\nS\\n\\n\\n\\n1\\n\\nB\\n\\n',\n",
       "       '\\n\\n\\n9\\n\\nG\\n\\n\\n\\n1\\n\\nS\\n\\n\\n\\n1\\n\\nB\\n\\n',\n",
       "       '\\n\\n\\n7\\n\\nG\\n\\n\\n\\n4\\n\\nS\\n\\n', '\\n\\n\\n5\\n\\nS\\n\\n',\n",
       "       '\\n\\n\\n7\\n\\nG\\n\\n\\n\\n1\\n\\nS\\n\\n', '\\n\\n\\n1\\n\\nG\\n\\n\\n\\n5\\n\\nB\\n\\n',\n",
       "       '\\n\\n\\n9\\n\\nG\\n\\n\\n\\n5\\n\\nS\\n\\n\\n\\n4\\n\\nB\\n\\n',\n",
       "       '\\n\\n\\n5\\n\\nG\\n\\n\\n\\n2\\n\\nS\\n\\n\\n\\n3\\n\\nB\\n\\n',\n",
       "       '\\n\\n\\n7\\n\\nG\\n\\n\\n\\n4\\n\\nS\\n\\n\\n\\n2\\n\\nB\\n\\n',\n",
       "       '\\n\\n\\n1\\n\\nG\\n\\n\\n\\n5\\n\\nS\\n\\n\\n\\n3\\n\\nB\\n\\n',\n",
       "       '\\n\\n\\n5\\n\\nG\\n\\n\\n\\n4\\n\\nS\\n\\n\\n\\n4\\n\\nB\\n\\n',\n",
       "       '\\n\\n\\n1\\n\\nG\\n\\n\\n\\n3\\n\\nS\\n\\n\\n\\n3\\n\\nB\\n\\n',\n",
       "       '\\n\\n\\n7\\n\\nG\\n\\n\\n\\n1\\n\\nS\\n\\n\\n\\n2\\n\\nB\\n\\n',\n",
       "       '\\n\\n\\n5\\n\\nG\\n\\n\\n\\n3\\n\\nS\\n\\n\\n\\n2\\n\\nB\\n\\n',\n",
       "       '\\n\\n\\n2\\n\\nG\\n\\n\\n\\n5\\n\\nS\\n\\n',\n",
       "       '\\n\\n\\n2\\n\\nG\\n\\n\\n\\n1\\n\\nS\\n\\n\\n\\n6\\n\\nB\\n\\n',\n",
       "       '\\n\\n\\n3\\n\\nG\\n\\n\\n\\n4\\n\\nS\\n\\n\\n\\n2\\n\\nB\\n\\n',\n",
       "       '\\n\\n\\n4\\n\\nG\\n\\n\\n\\n2\\n\\nS\\n\\n\\n\\n1\\n\\nB\\n\\n',\n",
       "       '\\n\\n\\n9\\n\\nG\\n\\n\\n\\n3\\n\\nS\\n\\n', '\\n\\n\\n5\\n\\nG\\n\\n\\n\\n3\\n\\nS\\n\\n',\n",
       "       '\\n\\n\\n1\\n\\nS\\n\\n\\n\\n4\\n\\nB\\n\\n',\n",
       "       '\\n\\n\\n5\\n\\nG\\n\\n\\n\\n4\\n\\nS\\n\\n\\n\\n2\\n\\nB\\n\\n',\n",
       "       '\\n\\n\\n3\\n\\nS\\n\\n\\n\\n3\\n\\nB\\n\\n', '\\n\\n\\n6\\n\\nG\\n\\n\\n\\n4\\n\\nS\\n\\n',\n",
       "       '\\n\\n\\n5\\n\\nS\\n\\n\\n\\n2\\n\\nB\\n\\n'], dtype=object)"
      ]
     },
     "execution_count": 35,
     "metadata": {},
     "output_type": "execute_result"
    }
   ],
   "source": [
    "ath_df['athlete_medals'].unique()"
   ]
  },
  {
   "cell_type": "code",
   "execution_count": null,
   "id": "ceac99ce",
   "metadata": {},
   "outputs": [],
   "source": []
  }
 ],
 "metadata": {
  "kernelspec": {
   "display_name": "Python 3 (ipykernel)",
   "language": "python",
   "name": "python3"
  },
  "language_info": {
   "codemirror_mode": {
    "name": "ipython",
    "version": 3
   },
   "file_extension": ".py",
   "mimetype": "text/x-python",
   "name": "python",
   "nbconvert_exporter": "python",
   "pygments_lexer": "ipython3",
   "version": "3.10.9"
  }
 },
 "nbformat": 4,
 "nbformat_minor": 5
}
